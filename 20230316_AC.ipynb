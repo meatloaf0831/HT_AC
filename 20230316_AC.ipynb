{
 "cells": [
  {
   "cell_type": "code",
   "execution_count": 1,
   "id": "690f17e8-b1a3-4f7b-b5b7-904da3aefaa0",
   "metadata": {},
   "outputs": [
    {
     "name": "stdout",
     "output_type": "stream",
     "text": [
      "8683\n"
     ]
    }
   ],
   "source": [
    "a = 341\n",
    "b = 8342\n",
    "print(a + b)"
   ]
  },
  {
   "cell_type": "code",
   "execution_count": 1,
   "id": "0214230e-3d5c-4f80-8cf3-ad7ed00443c5",
   "metadata": {},
   "outputs": [
    {
     "name": "stdout",
     "output_type": "stream",
     "text": [
      "Hello World!\n"
     ]
    }
   ],
   "source": [
    "print(\"Hello World!\")"
   ]
  },
  {
   "cell_type": "code",
   "execution_count": 2,
   "id": "3ef511c7-0206-4047-91d6-316491409124",
   "metadata": {},
   "outputs": [
    {
     "name": "stdout",
     "output_type": "stream",
     "text": [
      "7\n",
      "12\n",
      "-1\n",
      "0.75\n"
     ]
    }
   ],
   "source": [
    "a = 3\n",
    "b = 4\n",
    "\n",
    "print(a + b)\n",
    "print(a * b)\n",
    "print(a - b)\n",
    "print(a / b)"
   ]
  },
  {
   "cell_type": "code",
   "execution_count": 3,
   "id": "a9d177b4-69d4-447a-b0f5-51e5f1ed6c25",
   "metadata": {},
   "outputs": [
    {
     "name": "stdin",
     "output_type": "stream",
     "text": [
      "제일 좋아하는 아이스크림 맛이 무엇인가요? 초콜릿\n"
     ]
    },
    {
     "name": "stdout",
     "output_type": "stream",
     "text": [
      "제가 제일 좋아하는 아이스크림 맛은 초콜릿 입니다.\n"
     ]
    }
   ],
   "source": [
    "flavor = input(\"제일 좋아하는 아이스크림 맛이 무엇인가요?\")\n",
    "\n",
    "print(\"제가 제일 좋아하는 아이스크림 맛은\", flavor, \"입니다.\")"
   ]
  },
  {
   "cell_type": "code",
   "execution_count": 4,
   "id": "ee0f0e90-1564-43c7-b3d7-c64336aa41b1",
   "metadata": {},
   "outputs": [
    {
     "data": {
      "text/plain": [
       "30"
      ]
     },
     "execution_count": 4,
     "metadata": {},
     "output_type": "execute_result"
    }
   ],
   "source": [
    "학과수 = 3\n",
    "학급수 = 10\n",
    "학과수 * 학급수"
   ]
  },
  {
   "cell_type": "code",
   "execution_count": 5,
   "id": "20bbce27-0e13-4943-8d7f-b4fe2e1ac06f",
   "metadata": {},
   "outputs": [
    {
     "name": "stdout",
     "output_type": "stream",
     "text": [
      "10 20\n",
      "20 10\n"
     ]
    }
   ],
   "source": [
    "a, b = 10, 20\n",
    "print(a, b)\n",
    "\n",
    "a, b = b, a\n",
    "print(a, b)"
   ]
  },
  {
   "cell_type": "code",
   "execution_count": null,
   "id": "57e4c6b2-90b9-47b0-b321-87abc089d21b",
   "metadata": {},
   "outputs": [],
   "source": []
  }
 ],
 "metadata": {
  "kernelspec": {
   "display_name": "Python 3 (ipykernel)",
   "language": "python",
   "name": "python3"
  },
  "language_info": {
   "codemirror_mode": {
    "name": "ipython",
    "version": 3
   },
   "file_extension": ".py",
   "mimetype": "text/x-python",
   "name": "python",
   "nbconvert_exporter": "python",
   "pygments_lexer": "ipython3",
   "version": "3.9.13"
  }
 },
 "nbformat": 4,
 "nbformat_minor": 5
}
